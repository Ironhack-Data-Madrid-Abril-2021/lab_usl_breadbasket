{
 "cells": [
  {
   "cell_type": "markdown",
   "id": "1922f79d",
   "metadata": {},
   "source": [
    "## Grandma's bread shop\n",
    "\n",
    "Try to clusterize the Grandma's bread shop customers by item and by date. Then try to explain how are the clusters (cluster EDA)."
   ]
  },
  {
   "cell_type": "code",
   "execution_count": 2,
   "id": "b07ace49",
   "metadata": {},
   "outputs": [
    {
     "output_type": "execute_result",
     "data": {
      "text/plain": [
       "         Date      Time  Transaction           Item\n",
       "0  2016-10-30  09:58:11            1          Bread\n",
       "1  2016-10-30  10:05:34            2   Scandinavian\n",
       "2  2016-10-30  10:05:34            2   Scandinavian\n",
       "3  2016-10-30  10:07:57            3  Hot chocolate\n",
       "4  2016-10-30  10:07:57            3            Jam"
      ],
      "text/html": "<div>\n<style scoped>\n    .dataframe tbody tr th:only-of-type {\n        vertical-align: middle;\n    }\n\n    .dataframe tbody tr th {\n        vertical-align: top;\n    }\n\n    .dataframe thead th {\n        text-align: right;\n    }\n</style>\n<table border=\"1\" class=\"dataframe\">\n  <thead>\n    <tr style=\"text-align: right;\">\n      <th></th>\n      <th>Date</th>\n      <th>Time</th>\n      <th>Transaction</th>\n      <th>Item</th>\n    </tr>\n  </thead>\n  <tbody>\n    <tr>\n      <th>0</th>\n      <td>2016-10-30</td>\n      <td>09:58:11</td>\n      <td>1</td>\n      <td>Bread</td>\n    </tr>\n    <tr>\n      <th>1</th>\n      <td>2016-10-30</td>\n      <td>10:05:34</td>\n      <td>2</td>\n      <td>Scandinavian</td>\n    </tr>\n    <tr>\n      <th>2</th>\n      <td>2016-10-30</td>\n      <td>10:05:34</td>\n      <td>2</td>\n      <td>Scandinavian</td>\n    </tr>\n    <tr>\n      <th>3</th>\n      <td>2016-10-30</td>\n      <td>10:07:57</td>\n      <td>3</td>\n      <td>Hot chocolate</td>\n    </tr>\n    <tr>\n      <th>4</th>\n      <td>2016-10-30</td>\n      <td>10:07:57</td>\n      <td>3</td>\n      <td>Jam</td>\n    </tr>\n  </tbody>\n</table>\n</div>"
     },
     "metadata": {},
     "execution_count": 2
    }
   ],
   "source": [
    "# Run this code\n",
    "\n",
    "import pandas as pd\n",
    "\n",
    "df=pd.read_csv('data/breadbasket_dms.csv')\n",
    "\n",
    "df.head()"
   ]
  },
  {
   "cell_type": "code",
   "execution_count": 4,
   "id": "db68d0c3",
   "metadata": {},
   "outputs": [],
   "source": [
    "df['Datetime']=pd.to_datetime(df.Date+' '+df.Time,format='%Y-%m-%d %H:%M:%S')"
   ]
  },
  {
   "cell_type": "code",
   "execution_count": 5,
   "metadata": {},
   "outputs": [],
   "source": [
    "df['year'] = df['Datetime'].dt.year\n",
    "df['month'] = df['Datetime'].dt.month\n",
    "df['day'] = df['Datetime'].dt.day_name()\n",
    "df['hour'] = df['Datetime'].dt.hour"
   ]
  },
  {
   "cell_type": "code",
   "execution_count": 6,
   "metadata": {},
   "outputs": [],
   "source": [
    "weekday_map = {'Monday':1, 'Tuesday':2, 'Wednesday':3, 'Thursday':4, 'Friday':5, 'Saturday':6, 'Sunday':7}\n",
    "df['day']=df['day'].map(weekday_map)"
   ]
  },
  {
   "cell_type": "code",
   "execution_count": 7,
   "metadata": {},
   "outputs": [],
   "source": [
    "df = df.drop(columns=['Date','Time'], axis=1)"
   ]
  },
  {
   "cell_type": "code",
   "execution_count": 8,
   "metadata": {},
   "outputs": [
    {
     "output_type": "execute_result",
     "data": {
      "text/plain": [
       "       Transaction            Datetime  year  month  day  hour  \\\n",
       "0                1 2016-10-30 09:58:11  2016     10    7     9   \n",
       "1                2 2016-10-30 10:05:34  2016     10    7    10   \n",
       "2                2 2016-10-30 10:05:34  2016     10    7    10   \n",
       "3                3 2016-10-30 10:07:57  2016     10    7    10   \n",
       "4                3 2016-10-30 10:07:57  2016     10    7    10   \n",
       "...            ...                 ...   ...    ...  ...   ...   \n",
       "21288         9682 2017-04-09 14:32:58  2017      4    7    14   \n",
       "21289         9682 2017-04-09 14:32:58  2017      4    7    14   \n",
       "21290         9683 2017-04-09 14:57:06  2017      4    7    14   \n",
       "21291         9683 2017-04-09 14:57:06  2017      4    7    14   \n",
       "21292         9684 2017-04-09 15:04:24  2017      4    7    15   \n",
       "\n",
       "       Item_Afternoon with the baker  Item_Alfajores  Item_Argentina Night  \\\n",
       "0                                  0               0                     0   \n",
       "1                                  0               0                     0   \n",
       "2                                  0               0                     0   \n",
       "3                                  0               0                     0   \n",
       "4                                  0               0                     0   \n",
       "...                              ...             ...                   ...   \n",
       "21288                              0               0                     0   \n",
       "21289                              0               0                     0   \n",
       "21290                              0               0                     0   \n",
       "21291                              0               0                     0   \n",
       "21292                              0               0                     0   \n",
       "\n",
       "       Item_Art Tray  ...  Item_The BART  Item_The Nomad  Item_Tiffin  \\\n",
       "0                  0  ...              0               0            0   \n",
       "1                  0  ...              0               0            0   \n",
       "2                  0  ...              0               0            0   \n",
       "3                  0  ...              0               0            0   \n",
       "4                  0  ...              0               0            0   \n",
       "...              ...  ...            ...             ...          ...   \n",
       "21288              0  ...              0               0            0   \n",
       "21289              0  ...              0               0            0   \n",
       "21290              0  ...              0               0            0   \n",
       "21291              0  ...              0               0            0   \n",
       "21292              0  ...              0               0            0   \n",
       "\n",
       "       Item_Toast  Item_Truffles  Item_Tshirt  Item_Valentine's card  \\\n",
       "0               0              0            0                      0   \n",
       "1               0              0            0                      0   \n",
       "2               0              0            0                      0   \n",
       "3               0              0            0                      0   \n",
       "4               0              0            0                      0   \n",
       "...           ...            ...          ...                    ...   \n",
       "21288           0              0            0                      0   \n",
       "21289           0              0            0                      0   \n",
       "21290           0              0            0                      0   \n",
       "21291           0              0            0                      0   \n",
       "21292           0              0            0                      0   \n",
       "\n",
       "       Item_Vegan Feast  Item_Vegan mincepie  Item_Victorian Sponge  \n",
       "0                     0                    0                      0  \n",
       "1                     0                    0                      0  \n",
       "2                     0                    0                      0  \n",
       "3                     0                    0                      0  \n",
       "4                     0                    0                      0  \n",
       "...                 ...                  ...                    ...  \n",
       "21288                 0                    0                      0  \n",
       "21289                 0                    0                      0  \n",
       "21290                 0                    0                      0  \n",
       "21291                 0                    0                      0  \n",
       "21292                 0                    0                      0  \n",
       "\n",
       "[21293 rows x 100 columns]"
      ],
      "text/html": "<div>\n<style scoped>\n    .dataframe tbody tr th:only-of-type {\n        vertical-align: middle;\n    }\n\n    .dataframe tbody tr th {\n        vertical-align: top;\n    }\n\n    .dataframe thead th {\n        text-align: right;\n    }\n</style>\n<table border=\"1\" class=\"dataframe\">\n  <thead>\n    <tr style=\"text-align: right;\">\n      <th></th>\n      <th>Transaction</th>\n      <th>Datetime</th>\n      <th>year</th>\n      <th>month</th>\n      <th>day</th>\n      <th>hour</th>\n      <th>Item_Afternoon with the baker</th>\n      <th>Item_Alfajores</th>\n      <th>Item_Argentina Night</th>\n      <th>Item_Art Tray</th>\n      <th>...</th>\n      <th>Item_The BART</th>\n      <th>Item_The Nomad</th>\n      <th>Item_Tiffin</th>\n      <th>Item_Toast</th>\n      <th>Item_Truffles</th>\n      <th>Item_Tshirt</th>\n      <th>Item_Valentine's card</th>\n      <th>Item_Vegan Feast</th>\n      <th>Item_Vegan mincepie</th>\n      <th>Item_Victorian Sponge</th>\n    </tr>\n  </thead>\n  <tbody>\n    <tr>\n      <th>0</th>\n      <td>1</td>\n      <td>2016-10-30 09:58:11</td>\n      <td>2016</td>\n      <td>10</td>\n      <td>7</td>\n      <td>9</td>\n      <td>0</td>\n      <td>0</td>\n      <td>0</td>\n      <td>0</td>\n      <td>...</td>\n      <td>0</td>\n      <td>0</td>\n      <td>0</td>\n      <td>0</td>\n      <td>0</td>\n      <td>0</td>\n      <td>0</td>\n      <td>0</td>\n      <td>0</td>\n      <td>0</td>\n    </tr>\n    <tr>\n      <th>1</th>\n      <td>2</td>\n      <td>2016-10-30 10:05:34</td>\n      <td>2016</td>\n      <td>10</td>\n      <td>7</td>\n      <td>10</td>\n      <td>0</td>\n      <td>0</td>\n      <td>0</td>\n      <td>0</td>\n      <td>...</td>\n      <td>0</td>\n      <td>0</td>\n      <td>0</td>\n      <td>0</td>\n      <td>0</td>\n      <td>0</td>\n      <td>0</td>\n      <td>0</td>\n      <td>0</td>\n      <td>0</td>\n    </tr>\n    <tr>\n      <th>2</th>\n      <td>2</td>\n      <td>2016-10-30 10:05:34</td>\n      <td>2016</td>\n      <td>10</td>\n      <td>7</td>\n      <td>10</td>\n      <td>0</td>\n      <td>0</td>\n      <td>0</td>\n      <td>0</td>\n      <td>...</td>\n      <td>0</td>\n      <td>0</td>\n      <td>0</td>\n      <td>0</td>\n      <td>0</td>\n      <td>0</td>\n      <td>0</td>\n      <td>0</td>\n      <td>0</td>\n      <td>0</td>\n    </tr>\n    <tr>\n      <th>3</th>\n      <td>3</td>\n      <td>2016-10-30 10:07:57</td>\n      <td>2016</td>\n      <td>10</td>\n      <td>7</td>\n      <td>10</td>\n      <td>0</td>\n      <td>0</td>\n      <td>0</td>\n      <td>0</td>\n      <td>...</td>\n      <td>0</td>\n      <td>0</td>\n      <td>0</td>\n      <td>0</td>\n      <td>0</td>\n      <td>0</td>\n      <td>0</td>\n      <td>0</td>\n      <td>0</td>\n      <td>0</td>\n    </tr>\n    <tr>\n      <th>4</th>\n      <td>3</td>\n      <td>2016-10-30 10:07:57</td>\n      <td>2016</td>\n      <td>10</td>\n      <td>7</td>\n      <td>10</td>\n      <td>0</td>\n      <td>0</td>\n      <td>0</td>\n      <td>0</td>\n      <td>...</td>\n      <td>0</td>\n      <td>0</td>\n      <td>0</td>\n      <td>0</td>\n      <td>0</td>\n      <td>0</td>\n      <td>0</td>\n      <td>0</td>\n      <td>0</td>\n      <td>0</td>\n    </tr>\n    <tr>\n      <th>...</th>\n      <td>...</td>\n      <td>...</td>\n      <td>...</td>\n      <td>...</td>\n      <td>...</td>\n      <td>...</td>\n      <td>...</td>\n      <td>...</td>\n      <td>...</td>\n      <td>...</td>\n      <td>...</td>\n      <td>...</td>\n      <td>...</td>\n      <td>...</td>\n      <td>...</td>\n      <td>...</td>\n      <td>...</td>\n      <td>...</td>\n      <td>...</td>\n      <td>...</td>\n      <td>...</td>\n    </tr>\n    <tr>\n      <th>21288</th>\n      <td>9682</td>\n      <td>2017-04-09 14:32:58</td>\n      <td>2017</td>\n      <td>4</td>\n      <td>7</td>\n      <td>14</td>\n      <td>0</td>\n      <td>0</td>\n      <td>0</td>\n      <td>0</td>\n      <td>...</td>\n      <td>0</td>\n      <td>0</td>\n      <td>0</td>\n      <td>0</td>\n      <td>0</td>\n      <td>0</td>\n      <td>0</td>\n      <td>0</td>\n      <td>0</td>\n      <td>0</td>\n    </tr>\n    <tr>\n      <th>21289</th>\n      <td>9682</td>\n      <td>2017-04-09 14:32:58</td>\n      <td>2017</td>\n      <td>4</td>\n      <td>7</td>\n      <td>14</td>\n      <td>0</td>\n      <td>0</td>\n      <td>0</td>\n      <td>0</td>\n      <td>...</td>\n      <td>0</td>\n      <td>0</td>\n      <td>0</td>\n      <td>0</td>\n      <td>0</td>\n      <td>0</td>\n      <td>0</td>\n      <td>0</td>\n      <td>0</td>\n      <td>0</td>\n    </tr>\n    <tr>\n      <th>21290</th>\n      <td>9683</td>\n      <td>2017-04-09 14:57:06</td>\n      <td>2017</td>\n      <td>4</td>\n      <td>7</td>\n      <td>14</td>\n      <td>0</td>\n      <td>0</td>\n      <td>0</td>\n      <td>0</td>\n      <td>...</td>\n      <td>0</td>\n      <td>0</td>\n      <td>0</td>\n      <td>0</td>\n      <td>0</td>\n      <td>0</td>\n      <td>0</td>\n      <td>0</td>\n      <td>0</td>\n      <td>0</td>\n    </tr>\n    <tr>\n      <th>21291</th>\n      <td>9683</td>\n      <td>2017-04-09 14:57:06</td>\n      <td>2017</td>\n      <td>4</td>\n      <td>7</td>\n      <td>14</td>\n      <td>0</td>\n      <td>0</td>\n      <td>0</td>\n      <td>0</td>\n      <td>...</td>\n      <td>0</td>\n      <td>0</td>\n      <td>0</td>\n      <td>0</td>\n      <td>0</td>\n      <td>0</td>\n      <td>0</td>\n      <td>0</td>\n      <td>0</td>\n      <td>0</td>\n    </tr>\n    <tr>\n      <th>21292</th>\n      <td>9684</td>\n      <td>2017-04-09 15:04:24</td>\n      <td>2017</td>\n      <td>4</td>\n      <td>7</td>\n      <td>15</td>\n      <td>0</td>\n      <td>0</td>\n      <td>0</td>\n      <td>0</td>\n      <td>...</td>\n      <td>0</td>\n      <td>0</td>\n      <td>0</td>\n      <td>0</td>\n      <td>0</td>\n      <td>0</td>\n      <td>0</td>\n      <td>0</td>\n      <td>0</td>\n      <td>0</td>\n    </tr>\n  </tbody>\n</table>\n<p>21293 rows × 100 columns</p>\n</div>"
     },
     "metadata": {},
     "execution_count": 8
    }
   ],
   "source": [
    "df = pd.get_dummies(df, columns=['Item'], drop_first=True)\n",
    "df"
   ]
  },
  {
   "cell_type": "code",
   "execution_count": 9,
   "metadata": {},
   "outputs": [
    {
     "output_type": "execute_result",
     "data": {
      "text/plain": [
       "                                 year  month  day  hour  \\\n",
       "Datetime            Transaction                           \n",
       "2016-10-30 09:58:11 1            2016     10    7     9   \n",
       "2016-10-30 10:05:34 2            4032     20   14    20   \n",
       "2016-10-30 10:07:57 3            6048     30   21    30   \n",
       "2016-10-30 10:08:41 4            2016     10    7    10   \n",
       "2016-10-30 10:13:03 5            6048     30   21    30   \n",
       "...                               ...    ...  ...   ...   \n",
       "2017-04-09 14:24:03 9680         2017      4    7    14   \n",
       "2017-04-09 14:30:09 9681         8068     16   28    56   \n",
       "2017-04-09 14:32:58 9682         8068     16   28    56   \n",
       "2017-04-09 14:57:06 9683         4034      8   14    28   \n",
       "2017-04-09 15:04:24 9684         2017      4    7    15   \n",
       "\n",
       "                                 Item_Afternoon with the baker  \\\n",
       "Datetime            Transaction                                  \n",
       "2016-10-30 09:58:11 1                                        0   \n",
       "2016-10-30 10:05:34 2                                        0   \n",
       "2016-10-30 10:07:57 3                                        0   \n",
       "2016-10-30 10:08:41 4                                        0   \n",
       "2016-10-30 10:13:03 5                                        0   \n",
       "...                                                        ...   \n",
       "2017-04-09 14:24:03 9680                                     0   \n",
       "2017-04-09 14:30:09 9681                                     0   \n",
       "2017-04-09 14:32:58 9682                                     0   \n",
       "2017-04-09 14:57:06 9683                                     0   \n",
       "2017-04-09 15:04:24 9684                                     0   \n",
       "\n",
       "                                 Item_Alfajores  Item_Argentina Night  \\\n",
       "Datetime            Transaction                                         \n",
       "2016-10-30 09:58:11 1                         0                     0   \n",
       "2016-10-30 10:05:34 2                         0                     0   \n",
       "2016-10-30 10:07:57 3                         0                     0   \n",
       "2016-10-30 10:08:41 4                         0                     0   \n",
       "2016-10-30 10:13:03 5                         0                     0   \n",
       "...                                         ...                   ...   \n",
       "2017-04-09 14:24:03 9680                      0                     0   \n",
       "2017-04-09 14:30:09 9681                      0                     0   \n",
       "2017-04-09 14:32:58 9682                      0                     0   \n",
       "2017-04-09 14:57:06 9683                      0                     0   \n",
       "2017-04-09 15:04:24 9684                      0                     0   \n",
       "\n",
       "                                 Item_Art Tray  Item_Bacon  Item_Baguette  \\\n",
       "Datetime            Transaction                                             \n",
       "2016-10-30 09:58:11 1                        0           0              0   \n",
       "2016-10-30 10:05:34 2                        0           0              0   \n",
       "2016-10-30 10:07:57 3                        0           0              0   \n",
       "2016-10-30 10:08:41 4                        0           0              0   \n",
       "2016-10-30 10:13:03 5                        0           0              0   \n",
       "...                                        ...         ...            ...   \n",
       "2017-04-09 14:24:03 9680                     0           0              0   \n",
       "2017-04-09 14:30:09 9681                     0           0              0   \n",
       "2017-04-09 14:32:58 9682                     0           0              0   \n",
       "2017-04-09 14:57:06 9683                     0           0              0   \n",
       "2017-04-09 15:04:24 9684                     0           0              0   \n",
       "\n",
       "                                 ...  Item_The BART  Item_The Nomad  \\\n",
       "Datetime            Transaction  ...                                  \n",
       "2016-10-30 09:58:11 1            ...              0               0   \n",
       "2016-10-30 10:05:34 2            ...              0               0   \n",
       "2016-10-30 10:07:57 3            ...              0               0   \n",
       "2016-10-30 10:08:41 4            ...              0               0   \n",
       "2016-10-30 10:13:03 5            ...              0               0   \n",
       "...                              ...            ...             ...   \n",
       "2017-04-09 14:24:03 9680         ...              0               0   \n",
       "2017-04-09 14:30:09 9681         ...              0               0   \n",
       "2017-04-09 14:32:58 9682         ...              0               0   \n",
       "2017-04-09 14:57:06 9683         ...              0               0   \n",
       "2017-04-09 15:04:24 9684         ...              0               0   \n",
       "\n",
       "                                 Item_Tiffin  Item_Toast  Item_Truffles  \\\n",
       "Datetime            Transaction                                           \n",
       "2016-10-30 09:58:11 1                      0           0              0   \n",
       "2016-10-30 10:05:34 2                      0           0              0   \n",
       "2016-10-30 10:07:57 3                      0           0              0   \n",
       "2016-10-30 10:08:41 4                      0           0              0   \n",
       "2016-10-30 10:13:03 5                      0           0              0   \n",
       "...                                      ...         ...            ...   \n",
       "2017-04-09 14:24:03 9680                   0           0              0   \n",
       "2017-04-09 14:30:09 9681                   0           0              1   \n",
       "2017-04-09 14:32:58 9682                   0           0              0   \n",
       "2017-04-09 14:57:06 9683                   0           0              0   \n",
       "2017-04-09 15:04:24 9684                   0           0              0   \n",
       "\n",
       "                                 Item_Tshirt  Item_Valentine's card  \\\n",
       "Datetime            Transaction                                       \n",
       "2016-10-30 09:58:11 1                      0                      0   \n",
       "2016-10-30 10:05:34 2                      0                      0   \n",
       "2016-10-30 10:07:57 3                      0                      0   \n",
       "2016-10-30 10:08:41 4                      0                      0   \n",
       "2016-10-30 10:13:03 5                      0                      0   \n",
       "...                                      ...                    ...   \n",
       "2017-04-09 14:24:03 9680                   0                      0   \n",
       "2017-04-09 14:30:09 9681                   0                      0   \n",
       "2017-04-09 14:32:58 9682                   0                      0   \n",
       "2017-04-09 14:57:06 9683                   0                      0   \n",
       "2017-04-09 15:04:24 9684                   0                      0   \n",
       "\n",
       "                                 Item_Vegan Feast  Item_Vegan mincepie  \\\n",
       "Datetime            Transaction                                          \n",
       "2016-10-30 09:58:11 1                           0                    0   \n",
       "2016-10-30 10:05:34 2                           0                    0   \n",
       "2016-10-30 10:07:57 3                           0                    0   \n",
       "2016-10-30 10:08:41 4                           0                    0   \n",
       "2016-10-30 10:13:03 5                           0                    0   \n",
       "...                                           ...                  ...   \n",
       "2017-04-09 14:24:03 9680                        0                    0   \n",
       "2017-04-09 14:30:09 9681                        0                    0   \n",
       "2017-04-09 14:32:58 9682                        0                    0   \n",
       "2017-04-09 14:57:06 9683                        0                    0   \n",
       "2017-04-09 15:04:24 9684                        0                    0   \n",
       "\n",
       "                                 Item_Victorian Sponge  \n",
       "Datetime            Transaction                         \n",
       "2016-10-30 09:58:11 1                                0  \n",
       "2016-10-30 10:05:34 2                                0  \n",
       "2016-10-30 10:07:57 3                                0  \n",
       "2016-10-30 10:08:41 4                                0  \n",
       "2016-10-30 10:13:03 5                                0  \n",
       "...                                                ...  \n",
       "2017-04-09 14:24:03 9680                             0  \n",
       "2017-04-09 14:30:09 9681                             0  \n",
       "2017-04-09 14:32:58 9682                             0  \n",
       "2017-04-09 14:57:06 9683                             0  \n",
       "2017-04-09 15:04:24 9684                             0  \n",
       "\n",
       "[9531 rows x 98 columns]"
      ],
      "text/html": "<div>\n<style scoped>\n    .dataframe tbody tr th:only-of-type {\n        vertical-align: middle;\n    }\n\n    .dataframe tbody tr th {\n        vertical-align: top;\n    }\n\n    .dataframe thead th {\n        text-align: right;\n    }\n</style>\n<table border=\"1\" class=\"dataframe\">\n  <thead>\n    <tr style=\"text-align: right;\">\n      <th></th>\n      <th></th>\n      <th>year</th>\n      <th>month</th>\n      <th>day</th>\n      <th>hour</th>\n      <th>Item_Afternoon with the baker</th>\n      <th>Item_Alfajores</th>\n      <th>Item_Argentina Night</th>\n      <th>Item_Art Tray</th>\n      <th>Item_Bacon</th>\n      <th>Item_Baguette</th>\n      <th>...</th>\n      <th>Item_The BART</th>\n      <th>Item_The Nomad</th>\n      <th>Item_Tiffin</th>\n      <th>Item_Toast</th>\n      <th>Item_Truffles</th>\n      <th>Item_Tshirt</th>\n      <th>Item_Valentine's card</th>\n      <th>Item_Vegan Feast</th>\n      <th>Item_Vegan mincepie</th>\n      <th>Item_Victorian Sponge</th>\n    </tr>\n    <tr>\n      <th>Datetime</th>\n      <th>Transaction</th>\n      <th></th>\n      <th></th>\n      <th></th>\n      <th></th>\n      <th></th>\n      <th></th>\n      <th></th>\n      <th></th>\n      <th></th>\n      <th></th>\n      <th></th>\n      <th></th>\n      <th></th>\n      <th></th>\n      <th></th>\n      <th></th>\n      <th></th>\n      <th></th>\n      <th></th>\n      <th></th>\n      <th></th>\n    </tr>\n  </thead>\n  <tbody>\n    <tr>\n      <th>2016-10-30 09:58:11</th>\n      <th>1</th>\n      <td>2016</td>\n      <td>10</td>\n      <td>7</td>\n      <td>9</td>\n      <td>0</td>\n      <td>0</td>\n      <td>0</td>\n      <td>0</td>\n      <td>0</td>\n      <td>0</td>\n      <td>...</td>\n      <td>0</td>\n      <td>0</td>\n      <td>0</td>\n      <td>0</td>\n      <td>0</td>\n      <td>0</td>\n      <td>0</td>\n      <td>0</td>\n      <td>0</td>\n      <td>0</td>\n    </tr>\n    <tr>\n      <th>2016-10-30 10:05:34</th>\n      <th>2</th>\n      <td>4032</td>\n      <td>20</td>\n      <td>14</td>\n      <td>20</td>\n      <td>0</td>\n      <td>0</td>\n      <td>0</td>\n      <td>0</td>\n      <td>0</td>\n      <td>0</td>\n      <td>...</td>\n      <td>0</td>\n      <td>0</td>\n      <td>0</td>\n      <td>0</td>\n      <td>0</td>\n      <td>0</td>\n      <td>0</td>\n      <td>0</td>\n      <td>0</td>\n      <td>0</td>\n    </tr>\n    <tr>\n      <th>2016-10-30 10:07:57</th>\n      <th>3</th>\n      <td>6048</td>\n      <td>30</td>\n      <td>21</td>\n      <td>30</td>\n      <td>0</td>\n      <td>0</td>\n      <td>0</td>\n      <td>0</td>\n      <td>0</td>\n      <td>0</td>\n      <td>...</td>\n      <td>0</td>\n      <td>0</td>\n      <td>0</td>\n      <td>0</td>\n      <td>0</td>\n      <td>0</td>\n      <td>0</td>\n      <td>0</td>\n      <td>0</td>\n      <td>0</td>\n    </tr>\n    <tr>\n      <th>2016-10-30 10:08:41</th>\n      <th>4</th>\n      <td>2016</td>\n      <td>10</td>\n      <td>7</td>\n      <td>10</td>\n      <td>0</td>\n      <td>0</td>\n      <td>0</td>\n      <td>0</td>\n      <td>0</td>\n      <td>0</td>\n      <td>...</td>\n      <td>0</td>\n      <td>0</td>\n      <td>0</td>\n      <td>0</td>\n      <td>0</td>\n      <td>0</td>\n      <td>0</td>\n      <td>0</td>\n      <td>0</td>\n      <td>0</td>\n    </tr>\n    <tr>\n      <th>2016-10-30 10:13:03</th>\n      <th>5</th>\n      <td>6048</td>\n      <td>30</td>\n      <td>21</td>\n      <td>30</td>\n      <td>0</td>\n      <td>0</td>\n      <td>0</td>\n      <td>0</td>\n      <td>0</td>\n      <td>0</td>\n      <td>...</td>\n      <td>0</td>\n      <td>0</td>\n      <td>0</td>\n      <td>0</td>\n      <td>0</td>\n      <td>0</td>\n      <td>0</td>\n      <td>0</td>\n      <td>0</td>\n      <td>0</td>\n    </tr>\n    <tr>\n      <th>...</th>\n      <th>...</th>\n      <td>...</td>\n      <td>...</td>\n      <td>...</td>\n      <td>...</td>\n      <td>...</td>\n      <td>...</td>\n      <td>...</td>\n      <td>...</td>\n      <td>...</td>\n      <td>...</td>\n      <td>...</td>\n      <td>...</td>\n      <td>...</td>\n      <td>...</td>\n      <td>...</td>\n      <td>...</td>\n      <td>...</td>\n      <td>...</td>\n      <td>...</td>\n      <td>...</td>\n      <td>...</td>\n    </tr>\n    <tr>\n      <th>2017-04-09 14:24:03</th>\n      <th>9680</th>\n      <td>2017</td>\n      <td>4</td>\n      <td>7</td>\n      <td>14</td>\n      <td>0</td>\n      <td>0</td>\n      <td>0</td>\n      <td>0</td>\n      <td>0</td>\n      <td>0</td>\n      <td>...</td>\n      <td>0</td>\n      <td>0</td>\n      <td>0</td>\n      <td>0</td>\n      <td>0</td>\n      <td>0</td>\n      <td>0</td>\n      <td>0</td>\n      <td>0</td>\n      <td>0</td>\n    </tr>\n    <tr>\n      <th>2017-04-09 14:30:09</th>\n      <th>9681</th>\n      <td>8068</td>\n      <td>16</td>\n      <td>28</td>\n      <td>56</td>\n      <td>0</td>\n      <td>0</td>\n      <td>0</td>\n      <td>0</td>\n      <td>0</td>\n      <td>0</td>\n      <td>...</td>\n      <td>0</td>\n      <td>0</td>\n      <td>0</td>\n      <td>0</td>\n      <td>1</td>\n      <td>0</td>\n      <td>0</td>\n      <td>0</td>\n      <td>0</td>\n      <td>0</td>\n    </tr>\n    <tr>\n      <th>2017-04-09 14:32:58</th>\n      <th>9682</th>\n      <td>8068</td>\n      <td>16</td>\n      <td>28</td>\n      <td>56</td>\n      <td>0</td>\n      <td>0</td>\n      <td>0</td>\n      <td>0</td>\n      <td>0</td>\n      <td>0</td>\n      <td>...</td>\n      <td>0</td>\n      <td>0</td>\n      <td>0</td>\n      <td>0</td>\n      <td>0</td>\n      <td>0</td>\n      <td>0</td>\n      <td>0</td>\n      <td>0</td>\n      <td>0</td>\n    </tr>\n    <tr>\n      <th>2017-04-09 14:57:06</th>\n      <th>9683</th>\n      <td>4034</td>\n      <td>8</td>\n      <td>14</td>\n      <td>28</td>\n      <td>0</td>\n      <td>0</td>\n      <td>0</td>\n      <td>0</td>\n      <td>0</td>\n      <td>0</td>\n      <td>...</td>\n      <td>0</td>\n      <td>0</td>\n      <td>0</td>\n      <td>0</td>\n      <td>0</td>\n      <td>0</td>\n      <td>0</td>\n      <td>0</td>\n      <td>0</td>\n      <td>0</td>\n    </tr>\n    <tr>\n      <th>2017-04-09 15:04:24</th>\n      <th>9684</th>\n      <td>2017</td>\n      <td>4</td>\n      <td>7</td>\n      <td>15</td>\n      <td>0</td>\n      <td>0</td>\n      <td>0</td>\n      <td>0</td>\n      <td>0</td>\n      <td>0</td>\n      <td>...</td>\n      <td>0</td>\n      <td>0</td>\n      <td>0</td>\n      <td>0</td>\n      <td>0</td>\n      <td>0</td>\n      <td>0</td>\n      <td>0</td>\n      <td>0</td>\n      <td>0</td>\n    </tr>\n  </tbody>\n</table>\n<p>9531 rows × 98 columns</p>\n</div>"
     },
     "metadata": {},
     "execution_count": 9
    }
   ],
   "source": [
    "dfG = df.groupby(['Datetime', 'Transaction']).sum()\n",
    "dfG"
   ]
  },
  {
   "cell_type": "code",
   "execution_count": 13,
   "metadata": {},
   "outputs": [],
   "source": [
    "from sklearn.cluster import KMeans"
   ]
  },
  {
   "cell_type": "code",
   "execution_count": 14,
   "metadata": {},
   "outputs": [
    {
     "output_type": "execute_result",
     "data": {
      "text/plain": [
       "                                 year  month  day  hour  \\\n",
       "Datetime            Transaction                           \n",
       "2016-10-30 09:58:11 1            2016     10    7     9   \n",
       "2016-10-30 10:05:34 2            4032     20   14    20   \n",
       "2016-10-30 10:07:57 3            6048     30   21    30   \n",
       "2016-10-30 10:08:41 4            2016     10    7    10   \n",
       "2016-10-30 10:13:03 5            6048     30   21    30   \n",
       "\n",
       "                                 Item_Afternoon with the baker  \\\n",
       "Datetime            Transaction                                  \n",
       "2016-10-30 09:58:11 1                                        0   \n",
       "2016-10-30 10:05:34 2                                        0   \n",
       "2016-10-30 10:07:57 3                                        0   \n",
       "2016-10-30 10:08:41 4                                        0   \n",
       "2016-10-30 10:13:03 5                                        0   \n",
       "\n",
       "                                 Item_Alfajores  Item_Argentina Night  \\\n",
       "Datetime            Transaction                                         \n",
       "2016-10-30 09:58:11 1                         0                     0   \n",
       "2016-10-30 10:05:34 2                         0                     0   \n",
       "2016-10-30 10:07:57 3                         0                     0   \n",
       "2016-10-30 10:08:41 4                         0                     0   \n",
       "2016-10-30 10:13:03 5                         0                     0   \n",
       "\n",
       "                                 Item_Art Tray  Item_Bacon  Item_Baguette  \\\n",
       "Datetime            Transaction                                             \n",
       "2016-10-30 09:58:11 1                        0           0              0   \n",
       "2016-10-30 10:05:34 2                        0           0              0   \n",
       "2016-10-30 10:07:57 3                        0           0              0   \n",
       "2016-10-30 10:08:41 4                        0           0              0   \n",
       "2016-10-30 10:13:03 5                        0           0              0   \n",
       "\n",
       "                                 ...  Item_The Nomad  Item_Tiffin  Item_Toast  \\\n",
       "Datetime            Transaction  ...                                            \n",
       "2016-10-30 09:58:11 1            ...               0            0           0   \n",
       "2016-10-30 10:05:34 2            ...               0            0           0   \n",
       "2016-10-30 10:07:57 3            ...               0            0           0   \n",
       "2016-10-30 10:08:41 4            ...               0            0           0   \n",
       "2016-10-30 10:13:03 5            ...               0            0           0   \n",
       "\n",
       "                                 Item_Truffles  Item_Tshirt  \\\n",
       "Datetime            Transaction                               \n",
       "2016-10-30 09:58:11 1                        0            0   \n",
       "2016-10-30 10:05:34 2                        0            0   \n",
       "2016-10-30 10:07:57 3                        0            0   \n",
       "2016-10-30 10:08:41 4                        0            0   \n",
       "2016-10-30 10:13:03 5                        0            0   \n",
       "\n",
       "                                 Item_Valentine's card  Item_Vegan Feast  \\\n",
       "Datetime            Transaction                                            \n",
       "2016-10-30 09:58:11 1                                0                 0   \n",
       "2016-10-30 10:05:34 2                                0                 0   \n",
       "2016-10-30 10:07:57 3                                0                 0   \n",
       "2016-10-30 10:08:41 4                                0                 0   \n",
       "2016-10-30 10:13:03 5                                0                 0   \n",
       "\n",
       "                                 Item_Vegan mincepie  Item_Victorian Sponge  \\\n",
       "Datetime            Transaction                                               \n",
       "2016-10-30 09:58:11 1                              0                      0   \n",
       "2016-10-30 10:05:34 2                              0                      0   \n",
       "2016-10-30 10:07:57 3                              0                      0   \n",
       "2016-10-30 10:08:41 4                              0                      0   \n",
       "2016-10-30 10:13:03 5                              0                      0   \n",
       "\n",
       "                                 label  \n",
       "Datetime            Transaction         \n",
       "2016-10-30 09:58:11 1                3  \n",
       "2016-10-30 10:05:34 2                0  \n",
       "2016-10-30 10:07:57 3                4  \n",
       "2016-10-30 10:08:41 4                3  \n",
       "2016-10-30 10:13:03 5                4  \n",
       "\n",
       "[5 rows x 99 columns]"
      ],
      "text/html": "<div>\n<style scoped>\n    .dataframe tbody tr th:only-of-type {\n        vertical-align: middle;\n    }\n\n    .dataframe tbody tr th {\n        vertical-align: top;\n    }\n\n    .dataframe thead th {\n        text-align: right;\n    }\n</style>\n<table border=\"1\" class=\"dataframe\">\n  <thead>\n    <tr style=\"text-align: right;\">\n      <th></th>\n      <th></th>\n      <th>year</th>\n      <th>month</th>\n      <th>day</th>\n      <th>hour</th>\n      <th>Item_Afternoon with the baker</th>\n      <th>Item_Alfajores</th>\n      <th>Item_Argentina Night</th>\n      <th>Item_Art Tray</th>\n      <th>Item_Bacon</th>\n      <th>Item_Baguette</th>\n      <th>...</th>\n      <th>Item_The Nomad</th>\n      <th>Item_Tiffin</th>\n      <th>Item_Toast</th>\n      <th>Item_Truffles</th>\n      <th>Item_Tshirt</th>\n      <th>Item_Valentine's card</th>\n      <th>Item_Vegan Feast</th>\n      <th>Item_Vegan mincepie</th>\n      <th>Item_Victorian Sponge</th>\n      <th>label</th>\n    </tr>\n    <tr>\n      <th>Datetime</th>\n      <th>Transaction</th>\n      <th></th>\n      <th></th>\n      <th></th>\n      <th></th>\n      <th></th>\n      <th></th>\n      <th></th>\n      <th></th>\n      <th></th>\n      <th></th>\n      <th></th>\n      <th></th>\n      <th></th>\n      <th></th>\n      <th></th>\n      <th></th>\n      <th></th>\n      <th></th>\n      <th></th>\n      <th></th>\n      <th></th>\n    </tr>\n  </thead>\n  <tbody>\n    <tr>\n      <th>2016-10-30 09:58:11</th>\n      <th>1</th>\n      <td>2016</td>\n      <td>10</td>\n      <td>7</td>\n      <td>9</td>\n      <td>0</td>\n      <td>0</td>\n      <td>0</td>\n      <td>0</td>\n      <td>0</td>\n      <td>0</td>\n      <td>...</td>\n      <td>0</td>\n      <td>0</td>\n      <td>0</td>\n      <td>0</td>\n      <td>0</td>\n      <td>0</td>\n      <td>0</td>\n      <td>0</td>\n      <td>0</td>\n      <td>3</td>\n    </tr>\n    <tr>\n      <th>2016-10-30 10:05:34</th>\n      <th>2</th>\n      <td>4032</td>\n      <td>20</td>\n      <td>14</td>\n      <td>20</td>\n      <td>0</td>\n      <td>0</td>\n      <td>0</td>\n      <td>0</td>\n      <td>0</td>\n      <td>0</td>\n      <td>...</td>\n      <td>0</td>\n      <td>0</td>\n      <td>0</td>\n      <td>0</td>\n      <td>0</td>\n      <td>0</td>\n      <td>0</td>\n      <td>0</td>\n      <td>0</td>\n      <td>0</td>\n    </tr>\n    <tr>\n      <th>2016-10-30 10:07:57</th>\n      <th>3</th>\n      <td>6048</td>\n      <td>30</td>\n      <td>21</td>\n      <td>30</td>\n      <td>0</td>\n      <td>0</td>\n      <td>0</td>\n      <td>0</td>\n      <td>0</td>\n      <td>0</td>\n      <td>...</td>\n      <td>0</td>\n      <td>0</td>\n      <td>0</td>\n      <td>0</td>\n      <td>0</td>\n      <td>0</td>\n      <td>0</td>\n      <td>0</td>\n      <td>0</td>\n      <td>4</td>\n    </tr>\n    <tr>\n      <th>2016-10-30 10:08:41</th>\n      <th>4</th>\n      <td>2016</td>\n      <td>10</td>\n      <td>7</td>\n      <td>10</td>\n      <td>0</td>\n      <td>0</td>\n      <td>0</td>\n      <td>0</td>\n      <td>0</td>\n      <td>0</td>\n      <td>...</td>\n      <td>0</td>\n      <td>0</td>\n      <td>0</td>\n      <td>0</td>\n      <td>0</td>\n      <td>0</td>\n      <td>0</td>\n      <td>0</td>\n      <td>0</td>\n      <td>3</td>\n    </tr>\n    <tr>\n      <th>2016-10-30 10:13:03</th>\n      <th>5</th>\n      <td>6048</td>\n      <td>30</td>\n      <td>21</td>\n      <td>30</td>\n      <td>0</td>\n      <td>0</td>\n      <td>0</td>\n      <td>0</td>\n      <td>0</td>\n      <td>0</td>\n      <td>...</td>\n      <td>0</td>\n      <td>0</td>\n      <td>0</td>\n      <td>0</td>\n      <td>0</td>\n      <td>0</td>\n      <td>0</td>\n      <td>0</td>\n      <td>0</td>\n      <td>4</td>\n    </tr>\n  </tbody>\n</table>\n<p>5 rows × 99 columns</p>\n</div>"
     },
     "metadata": {},
     "execution_count": 14
    }
   ],
   "source": [
    "kmeans=KMeans(n_clusters=5).fit(dfG)\n",
    "dfG['label']=kmeans.predict(dfG)\n",
    "\n",
    "dfG.head()"
   ]
  },
  {
   "cell_type": "code",
   "execution_count": null,
   "metadata": {},
   "outputs": [],
   "source": []
  }
 ],
 "metadata": {
  "kernelspec": {
   "name": "python385jvsc74a57bd0e134e05457d34029b6460cd73bbf1ed73f339b5b6d98c95be70b69eba114fe95",
   "display_name": "Python 3.8.5 64-bit ('base': conda)"
  },
  "language_info": {
   "codemirror_mode": {
    "name": "ipython",
    "version": 3
   },
   "file_extension": ".py",
   "mimetype": "text/x-python",
   "name": "python",
   "nbconvert_exporter": "python",
   "pygments_lexer": "ipython3",
   "version": "3.8.5"
  },
  "varInspector": {
   "cols": {
    "lenName": 16,
    "lenType": 16,
    "lenVar": 40
   },
   "kernels_config": {
    "python": {
     "delete_cmd_postfix": "",
     "delete_cmd_prefix": "del ",
     "library": "var_list.py",
     "varRefreshCmd": "print(var_dic_list())"
    },
    "r": {
     "delete_cmd_postfix": ") ",
     "delete_cmd_prefix": "rm(",
     "library": "var_list.r",
     "varRefreshCmd": "cat(var_dic_list()) "
    }
   },
   "types_to_exclude": [
    "module",
    "function",
    "builtin_function_or_method",
    "instance",
    "_Feature"
   ],
   "window_display": false
  }
 },
 "nbformat": 4,
 "nbformat_minor": 5
}